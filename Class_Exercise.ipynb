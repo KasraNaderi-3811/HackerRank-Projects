{
  "nbformat": 4,
  "nbformat_minor": 0,
  "metadata": {
    "colab": {
      "provenance": [],
      "authorship_tag": "ABX9TyPF/dvoeQc99S78TkPGFWAt",
      "include_colab_link": true
    },
    "kernelspec": {
      "name": "python3",
      "display_name": "Python 3"
    },
    "language_info": {
      "name": "python"
    }
  },
  "cells": [
    {
      "cell_type": "markdown",
      "metadata": {
        "id": "view-in-github",
        "colab_type": "text"
      },
      "source": [
        "<a href=\"https://colab.research.google.com/github/KasraNaderi-3811/HackerRank-Projects/blob/main/Class_Exercise.ipynb\" target=\"_parent\"><img src=\"https://colab.research.google.com/assets/colab-badge.svg\" alt=\"Open In Colab\"/></a>"
      ]
    },
    {
      "cell_type": "markdown",
      "source": [
        "Defining a function that generates an n-digit number:"
      ],
      "metadata": {
        "id": "lrKzQGfW9nP-"
      }
    },
    {
      "cell_type": "code",
      "execution_count": 9,
      "metadata": {
        "id": "SjmN_XOu7AvZ"
      },
      "outputs": [],
      "source": [
        "import random\n",
        "\n",
        "# ndn: n-digit number, nod: number of digits\n",
        "def ndn_generator(nod) -> int:\n",
        "  '''This function generates'''\n",
        "  i = 0\n",
        "  numbers = []\n",
        "\n",
        "  while i != nod:\n",
        "      number = str(random.randint(0, 9))\n",
        "      numbers.append(number)\n",
        "      i += 1\n",
        "\n",
        "  nd_num = int(''.join(numbers))\n",
        "\n",
        "  return nd_num"
      ]
    },
    {
      "cell_type": "code",
      "source": [
        "ndn_generator(10)"
      ],
      "metadata": {
        "colab": {
          "base_uri": "https://localhost:8080/"
        },
        "id": "Xn451_i9EIBv",
        "outputId": "3c9ae177-b2af-4d00-e090-c70d773463d7"
      },
      "execution_count": 10,
      "outputs": [
        {
          "output_type": "execute_result",
          "data": {
            "text/plain": [
              "3443549121"
            ]
          },
          "metadata": {},
          "execution_count": 10
        }
      ]
    },
    {
      "cell_type": "markdown",
      "source": [
        "Defining a function that combines all the digits of a number:"
      ],
      "metadata": {
        "id": "hVo1Dqjmd1rV"
      }
    },
    {
      "cell_type": "code",
      "source": [
        "def digit_combiner(number) -> int:\n",
        "    '''This function combines all the digits of a number'''\n",
        "\n",
        "    num = str(number)\n",
        "    i = 0\n",
        "\n",
        "    for digit in num:\n",
        "        i += int(digit)\n",
        "\n",
        "    return i"
      ],
      "metadata": {
        "id": "S5jLk_v6eA56"
      },
      "execution_count": 11,
      "outputs": []
    },
    {
      "cell_type": "code",
      "source": [
        "lenghtDigti=int(input(\"Please give us the length of number\"))\n",
        "digit=ndn_generator(10)\n",
        "sumDigit=digit_combiner(digit)\n",
        "print(\"The random number is:\", digit, \" and, sum of this number is: \",sumDigit )"
      ],
      "metadata": {
        "colab": {
          "base_uri": "https://localhost:8080/"
        },
        "id": "zUrAADh2Eriw",
        "outputId": "132e3133-fdef-4a7d-af18-c4aaf9247b11"
      },
      "execution_count": 17,
      "outputs": [
        {
          "output_type": "stream",
          "name": "stdout",
          "text": [
            "Please give us the length of number20\n",
            "The random number is: 4989952596  and, sum of this number is:  66\n"
          ]
        }
      ]
    },
    {
      "cell_type": "code",
      "source": [
        "digit=ndn_generator(3)\n",
        "sumDigit=digit_combiner(digit)\n",
        "print (sumDigit**2)"
      ],
      "metadata": {
        "colab": {
          "base_uri": "https://localhost:8080/"
        },
        "id": "yp0zGoeQIu1L",
        "outputId": "033d64f2-ac26-4c7e-a924-d28727fd2117"
      },
      "execution_count": 18,
      "outputs": [
        {
          "output_type": "stream",
          "name": "stdout",
          "text": [
            "81\n"
          ]
        }
      ]
    }
  ]
}
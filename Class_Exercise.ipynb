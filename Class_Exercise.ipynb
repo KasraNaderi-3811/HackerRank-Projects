{
  "nbformat": 4,
  "nbformat_minor": 0,
  "metadata": {
    "colab": {
      "provenance": [],
      "authorship_tag": "ABX9TyPvJtU/Xov6tKA0l4T+XenA",
      "include_colab_link": true
    },
    "kernelspec": {
      "name": "python3",
      "display_name": "Python 3"
    },
    "language_info": {
      "name": "python"
    }
  },
  "cells": [
    {
      "cell_type": "markdown",
      "metadata": {
        "id": "view-in-github",
        "colab_type": "text"
      },
      "source": [
        "<a href=\"https://colab.research.google.com/github/KasraNaderi-3811/HackerRank-Projects/blob/main/Class_Exercise.ipynb\" target=\"_parent\"><img src=\"https://colab.research.google.com/assets/colab-badge.svg\" alt=\"Open In Colab\"/></a>"
      ]
    },
    {
      "cell_type": "markdown",
      "source": [
        "Defining a function that generates an n-digit number:"
      ],
      "metadata": {
        "id": "lrKzQGfW9nP-"
      }
    },
    {
      "cell_type": "code",
      "execution_count": 9,
      "metadata": {
        "id": "SjmN_XOu7AvZ"
      },
      "outputs": [],
      "source": [
        "import random\n",
        "\n",
        "# ndn: n-digit number, nod: number of digits\n",
        "def ndn_generator(nod) -> int:\n",
        "  '''This function generates an n-digit number.'''\n",
        "  i = 0\n",
        "  numbers = []\n",
        "\n",
        "  while i != nod:\n",
        "      number = str(random.randint(0, 9))\n",
        "      numbers.append(number)\n",
        "      i += 1\n",
        "\n",
        "  nd_num = int(''.join(numbers))\n",
        "\n",
        "  return nd_num"
      ]
    },
    {
      "cell_type": "markdown",
      "source": [
        "Defining a function that combines all the digits of a number:"
      ],
      "metadata": {
        "id": "hVo1Dqjmd1rV"
      }
    },
    {
      "cell_type": "code",
      "source": [
        "def digit_combiner(number) -> int:\n",
        "    '''This function combines all the digits of a number.'''\n",
        "\n",
        "    num = str(number)\n",
        "    i = 0\n",
        "\n",
        "    for digit in num:\n",
        "        i += int(digit)\n",
        "\n",
        "    return i"
      ],
      "metadata": {
        "id": "S5jLk_v6eA56"
      },
      "execution_count": 11,
      "outputs": []
    },
    {
      "cell_type": "markdown",
      "source": [
        "Testing:"
      ],
      "metadata": {
        "id": "N15uoHbVZEZO"
      }
    },
    {
      "cell_type": "code",
      "source": [
        "digit_length = int(input('Type in the length of the number (digit): '))\n",
        "number = ndn_generator(digit_length)\n",
        "number_sum = digit_combiner(number)\n",
        "print(f'The random number is: {number} and the sum of its digits is: {number_sum}')"
      ],
      "metadata": {
        "colab": {
          "base_uri": "https://localhost:8080/"
        },
        "id": "zUrAADh2Eriw",
        "outputId": "3d10661f-a065-4bad-c71b-fb45980c093e"
      },
      "execution_count": 23,
      "outputs": [
        {
          "output_type": "stream",
          "name": "stdout",
          "text": [
            "Type in the length of the number (digit): 5\n",
            "The random number is: 43202 and the sum of its digits is: 11\n"
          ]
        }
      ]
    }
  ]
}